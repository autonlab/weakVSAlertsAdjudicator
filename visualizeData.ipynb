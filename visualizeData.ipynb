{
 "cells": [
  {
   "cell_type": "code",
   "execution_count": 1,
   "id": "4964456c",
   "metadata": {},
   "outputs": [],
   "source": [
    "import h5py as h5\n",
    "import pandas as pd\n",
    "from pathlib import Path\n",
    "import json\n",
    "from collections import Counter\n",
    "import numpy as np\n",
    "from pytz import timezone, utc\n",
    "from datetime import datetime\n",
    "import matplotlib.pyplot as plt\n",
    "import scipy\n",
    "import neurokit2 as nk\n",
    "import statistics\n",
    "from scipy.signal import butter, lfilter\n",
    "\n",
    "from snorkel.labeling import labeling_function\n",
    "from snorkel.labeling import LabelingFunction\n",
    "from snorkel.preprocess import preprocessor\n",
    "from snorkel.labeling import LFAnalysis\n",
    "from snorkel.labeling import PandasLFApplier\n",
    "from scipy.signal import find_peaks\n",
    "from neurokit2.signal import signal_rate\n",
    "from neurokit2.signal import signal_timefrequency"
   ]
  },
  {
   "cell_type": "code",
   "execution_count": 2,
   "id": "dd8b6642",
   "metadata": {},
   "outputs": [],
   "source": [
    "preprocessedRR_path = './preRR.pkl'\n",
    "preprocessedSP_path = './preSP.pkl'\n",
    "\n",
    "eastern = timezone('US/Eastern')\n",
    "filename = './data/20190610_1962121_1549083.h5'\n",
    "seriesOptions = {\n",
    "    'hr': '/data/numerics/HR.HR',\n",
    "    'rr': '/data/numerics/RR.RR',\n",
    "    'spo2': ['/data/numerics/SpO₂.SpO₂', '/data/numerics/SpO₂T.SpO₂T'],\n",
    "    'ecg':['/data/waveforms/I','/data/waveforms/II','/data/waveforms/III','/data/waveforms/V','/data/waveforms/aVF','/data/waveforms/aVL','/data/waveforms/aVR','/data/waveforms/MCL'],\n",
    "    'pleth': '/data/waveforms/Pleth',\n",
    "    'plethT': '/data/waveforms/PlethT',\n",
    "    'art': '/data/waveforms/ART',\n",
    "    'resp': 'data/waveforms/Resp' \n",
    "}"
   ]
  },
  {
   "cell_type": "code",
   "execution_count": null,
   "id": "8b73ff07",
   "metadata": {},
   "outputs": [],
   "source": [
    "rrDF = pd.read_pickle(preprocessedRR_path)\n",
    "spDF = pd.read_pickle(preprocessedSP_path)\n",
    "\n",
    "h5file = h5.File(filename, mode='r')"
   ]
  },
  {
   "cell_type": "code",
   "execution_count": null,
   "id": "ed830c5e",
   "metadata": {},
   "outputs": [],
   "source": [
    "#Basetime\n",
    "meta_obj = json.loads(h5file.attrs['.meta'])\n",
    "time_obj = datetime.strptime(meta_obj['time_origin'][:-4], \"%Y-%m-%d %H:%M:%S.%f\")\n",
    "time_obj = eastern.localize(time_obj)\n",
    "basetime = time_obj.timestamp()\n",
    "print(basetime)"
   ]
  },
  {
   "cell_type": "code",
   "execution_count": null,
   "id": "88b9031e",
   "metadata": {},
   "outputs": [],
   "source": [
    "savetime = rrDF[0].start0 #replace rrDF with spDF if you want to look at spo2 data\n",
    "\n",
    "#Load in HR numeric\n",
    "h5py_hr = h5file[seriesOptions['hr']]\n",
    "hr = np.array(h5py_hr[(h5py_hr['time'] > savetime-basetime) & (h5py_hr['time'] < savetime+60-basetime)]['value'])\n",
    "\n",
    "#Load in ECG II waveform\n",
    "h5py_wf = h5file[seriesOptions['ecg'][1]]\n",
    "wf = np.array(h5py_wf[(h5py_wf['time'] > savetime-basetime) & (h5py_wf['time'] < savetime+60-basetime)]['value'])"
   ]
  },
  {
   "cell_type": "code",
   "execution_count": null,
   "id": "a8421f52",
   "metadata": {},
   "outputs": [],
   "source": [
    "#plot HR numeric\n",
    "plt.plot(hr,'xk')\n",
    "\n",
    "#plot ECG II waveform\n",
    "plt.plot(wf)"
   ]
  }
 ],
 "metadata": {
  "kernelspec": {
   "display_name": "Python 3",
   "language": "python",
   "name": "python3"
  },
  "language_info": {
   "codemirror_mode": {
    "name": "ipython",
    "version": 3
   },
   "file_extension": ".py",
   "mimetype": "text/x-python",
   "name": "python",
   "nbconvert_exporter": "python",
   "pygments_lexer": "ipython3",
   "version": "3.7.10"
  }
 },
 "nbformat": 4,
 "nbformat_minor": 5
}
